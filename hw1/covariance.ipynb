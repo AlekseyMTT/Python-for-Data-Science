{
 "cells": [
  {
   "cell_type": "markdown",
   "metadata": {},
   "source": [
    "Попробовал повторить шаги из статьи https://studopedia.ru/9_153900_viborochnaya-kovariatsiya-i-viborochnaya-dispersiya.html"
   ]
  },
  {
   "cell_type": "code",
   "execution_count": 18,
   "metadata": {},
   "outputs": [],
   "source": [
    "import numpy as np"
   ]
  },
  {
   "cell_type": "code",
   "execution_count": 19,
   "metadata": {},
   "outputs": [
    {
     "data": {
      "text/plain": [
       "array([[ 26.2, 103.5],\n",
       "       [ 24.8, 127. ],\n",
       "       [ 25.6, 126. ],\n",
       "       [ 26.8, 124.8],\n",
       "       [ 27.7, 124.7],\n",
       "       [ 28.3, 121.6],\n",
       "       [ 27.4, 149.7],\n",
       "       [ 25.1, 188.8],\n",
       "       [ 25.2, 193.6],\n",
       "       [ 25.6, 173.9]])"
      ]
     },
     "execution_count": 19,
     "metadata": {},
     "output_type": "execute_result"
    }
   ],
   "source": [
    "b = np.array([[26.2, 103.5],\n",
    "            [24.8, 127.0],\n",
    "            [25.6, 126.0],\n",
    "            [26.8, 124.8],\n",
    "            [27.7, 124.7],\n",
    "            [28.3, 121.6],\n",
    "            [27.4, 149.7],\n",
    "            [25.1, 188.8],\n",
    "            [25.2, 193.6],\n",
    "            [25.6, 173.9]])\n",
    "b"
   ]
  },
  {
   "cell_type": "code",
   "execution_count": 20,
   "metadata": {},
   "outputs": [
    {
     "data": {
      "text/plain": [
       "array([ 26.27, 143.36])"
      ]
     },
     "execution_count": 20,
     "metadata": {},
     "output_type": "execute_result"
    }
   ],
   "source": [
    "mean_b = b.mean(axis = 0)\n",
    "mean_b"
   ]
  },
  {
   "cell_type": "code",
   "execution_count": 21,
   "metadata": {},
   "outputs": [
    {
     "data": {
      "text/plain": [
       "array([[ -0.07, -39.86],\n",
       "       [ -1.47, -16.36],\n",
       "       [ -0.67, -17.36],\n",
       "       [  0.53, -18.56],\n",
       "       [  1.43, -18.66],\n",
       "       [  2.03, -21.76],\n",
       "       [  1.13,   6.34],\n",
       "       [ -1.17,  45.44],\n",
       "       [ -1.07,  50.24],\n",
       "       [ -0.67,  30.54]])"
      ]
     },
     "execution_count": 21,
     "metadata": {},
     "output_type": "execute_result"
    }
   ],
   "source": [
    "deviation = np.subtract(b, mean_b)\n",
    "deviation"
   ]
  },
  {
   "cell_type": "code",
   "execution_count": 22,
   "metadata": {},
   "outputs": [
    {
     "data": {
      "text/plain": [
       "array([[ -0.07,  -1.47,  -0.67,   0.53,   1.43,   2.03,   1.13,  -1.17,\n",
       "         -1.07,  -0.67],\n",
       "       [-39.86, -16.36, -17.36, -18.56, -18.66, -21.76,   6.34,  45.44,\n",
       "         50.24,  30.54]])"
      ]
     },
     "execution_count": 22,
     "metadata": {},
     "output_type": "execute_result"
    }
   ],
   "source": [
    "deviation.T"
   ]
  },
  {
   "cell_type": "markdown",
   "metadata": {},
   "source": [
    "Сделал цикл, чтобы проверить правильно ли я понимаю np.dot()"
   ]
  },
  {
   "cell_type": "code",
   "execution_count": 23,
   "metadata": {},
   "outputs": [
    {
     "name": "stdout",
     "output_type": "stream",
     "text": [
      " -0.07000000000000028, -39.859999999999985, произведение = 2.7902000000000102 \n",
      " -1.4699999999999989, -16.359999999999985, произведение = 24.04919999999996 \n",
      " -0.6699999999999982, -17.359999999999985, произведение = 11.631199999999959 \n",
      " 0.5300000000000011, -18.559999999999988, произведение = -9.836800000000014 \n",
      " 1.4299999999999997, -18.659999999999982, произведение = -26.68379999999997 \n",
      " 2.030000000000001, -21.75999999999999, произведение = -44.17280000000001 \n",
      " 1.129999999999999, 6.340000000000003, произведение = 7.1641999999999975 \n",
      " -1.1699999999999982, 45.440000000000026, произведение = -53.16479999999995 \n",
      " -1.0700000000000003, 50.24000000000001, произведение = -53.75680000000003 \n",
      " -0.6699999999999982, 30.54000000000002, произведение = -20.461799999999958 \n"
     ]
    },
    {
     "data": {
      "text/plain": [
       "-162.442"
      ]
     },
     "execution_count": 23,
     "metadata": {},
     "output_type": "execute_result"
    }
   ],
   "source": [
    "i = 0\n",
    "result_cycle = 0\n",
    "while i < len(deviation.T[0]):\n",
    "    result_cycle += deviation.T[0, i] * deviation.T[1, i]\n",
    "    print(f\" {deviation.T[0, i]}, {deviation.T[1, i]}, произведение = {deviation.T[0, i] * deviation.T[1, i]} \")\n",
    "    i +=1\n",
    "    \n",
    "result_cycle\n",
    "        "
   ]
  },
  {
   "cell_type": "markdown",
   "metadata": {},
   "source": [
    "Видимо, в предыдущем результате где-то происходит округление."
   ]
  },
  {
   "cell_type": "code",
   "execution_count": 24,
   "metadata": {},
   "outputs": [
    {
     "data": {
      "text/plain": [
       "-162.44199999999998"
      ]
     },
     "execution_count": 24,
     "metadata": {},
     "output_type": "execute_result"
    }
   ],
   "source": [
    "result_np = np.dot(deviation.T[0], deviation.T[1])\n",
    "result_np"
   ]
  },
  {
   "cell_type": "code",
   "execution_count": 25,
   "metadata": {},
   "outputs": [
    {
     "data": {
      "text/plain": [
       "10"
      ]
     },
     "execution_count": 25,
     "metadata": {},
     "output_type": "execute_result"
    }
   ],
   "source": [
    "n = len(b)\n",
    "n"
   ]
  },
  {
   "cell_type": "code",
   "execution_count": 26,
   "metadata": {},
   "outputs": [
    {
     "data": {
      "text/plain": [
       "-16.2442"
      ]
     },
     "execution_count": 26,
     "metadata": {},
     "output_type": "execute_result"
    }
   ],
   "source": [
    "f1_result_cycle = result_cycle / n\n",
    "f1_result_cycle"
   ]
  },
  {
   "cell_type": "code",
   "execution_count": 27,
   "metadata": {},
   "outputs": [
    {
     "data": {
      "text/plain": [
       "-16.2442"
      ]
     },
     "execution_count": 27,
     "metadata": {},
     "output_type": "execute_result"
    }
   ],
   "source": [
    "f1_result_np = result_np / n\n",
    "f1_result_np"
   ]
  },
  {
   "cell_type": "markdown",
   "metadata": {},
   "source": [
    "Результат выше совпадает с тем, что дан в статье. Получается, что не вычитая 1, получаем ковариацию генеральной совокупности."
   ]
  },
  {
   "cell_type": "code",
   "execution_count": 28,
   "metadata": {},
   "outputs": [],
   "source": [
    "Cov = np.cov(b.T)[0, 1] # Ковариация выборочной совокупности"
   ]
  },
  {
   "cell_type": "code",
   "execution_count": 29,
   "metadata": {},
   "outputs": [],
   "source": [
    "cov = ((n - 1)/n) * Cov # Ковариация генеральной совокупности"
   ]
  },
  {
   "cell_type": "code",
   "execution_count": 30,
   "metadata": {},
   "outputs": [
    {
     "data": {
      "text/plain": [
       "-16.2442"
      ]
     },
     "execution_count": 30,
     "metadata": {},
     "output_type": "execute_result"
    }
   ],
   "source": [
    "f1_result_np"
   ]
  },
  {
   "cell_type": "code",
   "execution_count": 31,
   "metadata": {},
   "outputs": [
    {
     "data": {
      "text/plain": [
       "-16.244199999999996"
      ]
     },
     "execution_count": 31,
     "metadata": {},
     "output_type": "execute_result"
    }
   ],
   "source": [
    "cov"
   ]
  },
  {
   "cell_type": "code",
   "execution_count": 32,
   "metadata": {},
   "outputs": [
    {
     "data": {
      "text/plain": [
       "-18.049111111111106"
      ]
     },
     "execution_count": 32,
     "metadata": {},
     "output_type": "execute_result"
    }
   ],
   "source": [
    "Cov"
   ]
  }
 ],
 "metadata": {
  "kernelspec": {
   "display_name": "Python 3",
   "language": "python",
   "name": "python3"
  },
  "language_info": {
   "codemirror_mode": {
    "name": "ipython",
    "version": 3
   },
   "file_extension": ".py",
   "mimetype": "text/x-python",
   "name": "python",
   "nbconvert_exporter": "python",
   "pygments_lexer": "ipython3",
   "version": "3.7.1"
  }
 },
 "nbformat": 4,
 "nbformat_minor": 2
}
